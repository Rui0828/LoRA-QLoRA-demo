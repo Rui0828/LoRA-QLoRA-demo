{
 "cells": [
  {
   "cell_type": "markdown",
   "metadata": {},
   "source": [
    "# Fine-Tuning Llama Model on Arxiv Dataset"
   ]
  },
  {
   "cell_type": "markdown",
   "metadata": {},
   "source": [
    "## 1. Setup"
   ]
  },
  {
   "cell_type": "code",
   "execution_count": 1,
   "metadata": {},
   "outputs": [],
   "source": [
    "# !pip install -r requirements.txt"
   ]
  },
  {
   "cell_type": "code",
   "execution_count": 2,
   "metadata": {},
   "outputs": [
    {
     "name": "stdout",
     "output_type": "stream",
     "text": [
      "True\n"
     ]
    }
   ],
   "source": [
    "# check torch GPU\n",
    "import torch\n",
    "print(torch.cuda.is_available())"
   ]
  },
  {
   "cell_type": "code",
   "execution_count": 3,
   "metadata": {},
   "outputs": [],
   "source": [
    "# import kagglehub\n",
    "\n",
    "# # Download latest version\n",
    "# path = kagglehub.dataset_download(\"Cornell-University/arxiv\", path='Cornell-University/arxiv')\n",
    "\n",
    "# print(\"Path to dataset files:\", path)"
   ]
  },
  {
   "cell_type": "markdown",
   "metadata": {},
   "source": [
    "## 2. Load necessary modules and configuration"
   ]
  },
  {
   "cell_type": "code",
   "execution_count": 4,
   "metadata": {},
   "outputs": [
    {
     "name": "stderr",
     "output_type": "stream",
     "text": [
      "/user_data/LoRA-QLoRA-demo/pyenv/lib/python3.11/site-packages/tqdm/auto.py:21: TqdmWarning: IProgress not found. Please update jupyter and ipywidgets. See https://ipywidgets.readthedocs.io/en/stable/user_install.html\n",
      "  from .autonotebook import tqdm as notebook_tqdm\n"
     ]
    }
   ],
   "source": [
    "from transformers import AutoModelForCausalLM, AutoTokenizer, TrainingArguments, Trainer, BitsAndBytesConfig\n",
    "from transformers import DataCollatorWithPadding\n",
    "from peft import LoraConfig, get_peft_model\n",
    "from datasets import load_dataset, Dataset\n",
    "import bitsandbytes as bnb\n",
    "import torch\n",
    "import os\n",
    "\n",
    "# Paths\n",
    "BASE_MODEL = \"./models/Llama-3.2-1B\"\n",
    "DATASET = \"./data/Cornell-University/arxiv\"\n",
    "DATASET_MAP = \"./data/Cornell-University/arxiv_tokenized_dataset\"\n",
    "OUTPUT_DIR = \"./fine_tuned_models/\"\n",
    "SUBSET_RATIO = 0.01  # 使用 1% 的資料\n",
    "\n",
    "# Load model and tokenizer\n",
    "tokenizer = AutoTokenizer.from_pretrained(BASE_MODEL)"
   ]
  },
  {
   "cell_type": "markdown",
   "metadata": {},
   "source": [
    "## 3. Data preprocessing"
   ]
  },
  {
   "cell_type": "code",
   "execution_count": 5,
   "metadata": {},
   "outputs": [
    {
     "name": "stdout",
     "output_type": "stream",
     "text": [
      "Tokenized dataset loaded from disk.\n",
      "使用的資料集大小: 26431 個樣本\n"
     ]
    }
   ],
   "source": [
    "from datasets import load_dataset, Dataset\n",
    "from transformers import AutoTokenizer\n",
    "import os\n",
    "\n",
    "# Set pad token to eos token\n",
    "if tokenizer.pad_token is None:\n",
    "    tokenizer.pad_token = tokenizer.eos_token  # use the <eos> token as the pad token\n",
    "\n",
    "# Load dataset\n",
    "dataset = load_dataset(DATASET, split=\"train\")\n",
    "\n",
    "\n",
    "\n",
    "# Preprocess function\n",
    "def preprocess_function(examples):\n",
    "    inputs = tokenizer(\n",
    "        examples[\"abstract\"], \n",
    "        truncation=True, \n",
    "        padding=\"max_length\", \n",
    "        max_length=256 # Default: 512\n",
    "    )\n",
    "    outputs = tokenizer(\n",
    "        examples[\"title\"], \n",
    "        truncation=True, \n",
    "        padding=\"max_length\", \n",
    "        max_length=256 # Default: 512\n",
    "    )\n",
    "    \n",
    "    # 計算 loss 時，忽略 padding 部分\n",
    "    # 確保 labels 與 inputs 對齊長度\n",
    "    labels = outputs[\"input_ids\"]\n",
    "    inputs[\"labels\"] = [\n",
    "        (label if label != tokenizer.pad_token_id else -100) \n",
    "        for label in labels\n",
    "    ]\n",
    "    ## Why -100?\n",
    "    ### Hugging Face 的預設行為：在 Trainer 和大多數損失函數中，-100 是一個特殊值，表示該位置應被忽略。\n",
    "    \n",
    "    return inputs\n",
    "\n",
    "# Apply preprocess function to dataset (tokenize)\n",
    "if not os.path.exists(f\"{DATASET_MAP}_{SUBSET_RATIO*100}_percent\"):\n",
    "    \n",
    "    # 隨機抽取子集\n",
    "    subset_dataset = dataset.shuffle(seed=42).select(range(int(len(dataset) * SUBSET_RATIO)))\n",
    "    \n",
    "    tokenized_dataset = subset_dataset.map(preprocess_function, batched=True)\n",
    "    tokenized_dataset.save_to_disk(f\"{DATASET_MAP}_{SUBSET_RATIO*100}_percent\")\n",
    "    print(\"Tokenized dataset saved to disk.\")\n",
    "else:\n",
    "    tokenized_dataset = Dataset.load_from_disk(f\"{DATASET_MAP}_{SUBSET_RATIO*100}_percent\")\n",
    "    print(\"Tokenized dataset loaded from disk.\")\n",
    "\n",
    "print(f\"使用的資料集大小: {len(tokenized_dataset)} 個樣本\")"
   ]
  },
  {
   "cell_type": "markdown",
   "metadata": {},
   "source": [
    "## 4. FineTuning"
   ]
  },
  {
   "cell_type": "markdown",
   "metadata": {},
   "source": [
    "### 4.1 SFT (Standard Fine-Tuning)"
   ]
  },
  {
   "cell_type": "code",
   "execution_count": 6,
   "metadata": {},
   "outputs": [],
   "source": [
    "# Define data collator\n",
    "data_collator = DataCollatorWithPadding(tokenizer=tokenizer, padding=True)"
   ]
  },
  {
   "cell_type": "code",
   "execution_count": 7,
   "metadata": {},
   "outputs": [],
   "source": [
    "# # Load model for SFT\n",
    "# sft_model = AutoModelForCausalLM.from_pretrained(BASE_MODEL, device_map=\"auto\")\n",
    "# sft_model.gradient_checkpointing_enable()\n",
    "\n",
    "\n",
    "# # Set model config\n",
    "# sft_training_args = TrainingArguments(\n",
    "#     output_dir=os.path.join(OUTPUT_DIR, \"sft\"),\n",
    "#     per_device_train_batch_size=1,\n",
    "#     gradient_accumulation_steps=8,  # 累積梯度\n",
    "#     num_train_epochs=3,\n",
    "#     logging_dir=\"./logs\",\n",
    "#     save_strategy=\"epoch\",\n",
    "#     fp16=True,\n",
    "#     push_to_hub=False\n",
    "# )\n",
    "\n",
    "# # Initialize Trainer\n",
    "# sft_trainer = Trainer(\n",
    "#     model=sft_model,\n",
    "#     args=sft_training_args,\n",
    "#     train_dataset=tokenized_dataset,\n",
    "#     data_collator=data_collator  # 動態填充\n",
    "# )\n",
    "\n",
    "# # Train model\n",
    "# sft_trainer.train()\n",
    "# ## 一直 OOM，SFT 無法在這台機器上訓練，直接進 LoRA\n"
   ]
  },
  {
   "cell_type": "markdown",
   "metadata": {},
   "source": [
    "### 4.2 LoRA"
   ]
  },
  {
   "cell_type": "code",
   "execution_count": 36,
   "metadata": {},
   "outputs": [
    {
     "data": {
      "text/html": [
       "\n",
       "    <div>\n",
       "      \n",
       "      <progress value='9912' max='9912' style='width:300px; height:20px; vertical-align: middle;'></progress>\n",
       "      [9912/9912 47:15, Epoch 3/3]\n",
       "    </div>\n",
       "    <table border=\"1\" class=\"dataframe\">\n",
       "  <thead>\n",
       " <tr style=\"text-align: left;\">\n",
       "      <th>Step</th>\n",
       "      <th>Training Loss</th>\n",
       "    </tr>\n",
       "  </thead>\n",
       "  <tbody>\n",
       "    <tr>\n",
       "      <td>500</td>\n",
       "      <td>3.770200</td>\n",
       "    </tr>\n",
       "    <tr>\n",
       "      <td>1000</td>\n",
       "      <td>2.099600</td>\n",
       "    </tr>\n",
       "    <tr>\n",
       "      <td>1500</td>\n",
       "      <td>2.072300</td>\n",
       "    </tr>\n",
       "    <tr>\n",
       "      <td>2000</td>\n",
       "      <td>2.058500</td>\n",
       "    </tr>\n",
       "    <tr>\n",
       "      <td>2500</td>\n",
       "      <td>2.041300</td>\n",
       "    </tr>\n",
       "    <tr>\n",
       "      <td>3000</td>\n",
       "      <td>2.044500</td>\n",
       "    </tr>\n",
       "    <tr>\n",
       "      <td>3500</td>\n",
       "      <td>2.063600</td>\n",
       "    </tr>\n",
       "    <tr>\n",
       "      <td>4000</td>\n",
       "      <td>2.041500</td>\n",
       "    </tr>\n",
       "    <tr>\n",
       "      <td>4500</td>\n",
       "      <td>2.022200</td>\n",
       "    </tr>\n",
       "    <tr>\n",
       "      <td>5000</td>\n",
       "      <td>2.017800</td>\n",
       "    </tr>\n",
       "    <tr>\n",
       "      <td>5500</td>\n",
       "      <td>2.006500</td>\n",
       "    </tr>\n",
       "    <tr>\n",
       "      <td>6000</td>\n",
       "      <td>2.043300</td>\n",
       "    </tr>\n",
       "    <tr>\n",
       "      <td>6500</td>\n",
       "      <td>2.025600</td>\n",
       "    </tr>\n",
       "    <tr>\n",
       "      <td>7000</td>\n",
       "      <td>2.007400</td>\n",
       "    </tr>\n",
       "    <tr>\n",
       "      <td>7500</td>\n",
       "      <td>2.041500</td>\n",
       "    </tr>\n",
       "    <tr>\n",
       "      <td>8000</td>\n",
       "      <td>1.990600</td>\n",
       "    </tr>\n",
       "    <tr>\n",
       "      <td>8500</td>\n",
       "      <td>2.018500</td>\n",
       "    </tr>\n",
       "    <tr>\n",
       "      <td>9000</td>\n",
       "      <td>2.019500</td>\n",
       "    </tr>\n",
       "    <tr>\n",
       "      <td>9500</td>\n",
       "      <td>2.020900</td>\n",
       "    </tr>\n",
       "  </tbody>\n",
       "</table><p>"
      ],
      "text/plain": [
       "<IPython.core.display.HTML object>"
      ]
     },
     "metadata": {},
     "output_type": "display_data"
    },
    {
     "data": {
      "text/plain": [
       "TrainOutput(global_step=9912, training_loss=2.12113493272044, metrics={'train_runtime': 2835.5627, 'train_samples_per_second': 27.964, 'train_steps_per_second': 3.496, 'total_flos': 1.1859524132850893e+17, 'train_loss': 2.12113493272044, 'epoch': 3.0})"
      ]
     },
     "execution_count": 36,
     "metadata": {},
     "output_type": "execute_result"
    }
   ],
   "source": [
    "# Reload base model for LoRA \n",
    "lora_model = AutoModelForCausalLM.from_pretrained(BASE_MODEL, device_map=\"auto\")\n",
    "lora_model.gradient_checkpointing_enable()\n",
    "\n",
    "# Set LoRA config\n",
    "lora_config = LoraConfig(\n",
    "    r=4, # default: 8\n",
    "    lora_alpha=32,\n",
    "    target_modules=[\"q_proj\", \"k_proj\", \"v_proj\"],\n",
    "    lora_dropout=0.1,\n",
    "    bias=\"none\",\n",
    "    task_type=\"CAUSAL_LM\"\n",
    ")\n",
    "\n",
    "# Apply LoRA to the base model\n",
    "lora_model = get_peft_model(lora_model, lora_config)\n",
    "\n",
    "# Set LoRA training args\n",
    "lora_training_args = TrainingArguments(\n",
    "    output_dir=os.path.join(OUTPUT_DIR, \"lora\"),\n",
    "    per_device_train_batch_size=2,\n",
    "    gradient_accumulation_steps=4,  # 累積梯度\n",
    "    num_train_epochs=3,\n",
    "    logging_dir=\"./logs\",\n",
    "    save_strategy=\"epoch\",\n",
    "    fp16=True,\n",
    "    push_to_hub=False\n",
    ")\n",
    "\n",
    "# Initialize LoRA Trainer\n",
    "lora_trainer = Trainer(\n",
    "    model=lora_model,\n",
    "    args=lora_training_args,\n",
    "    train_dataset=tokenized_dataset,\n",
    "    data_collator=data_collator,  # 動態填充\n",
    "    optimizers=(bnb.optim.Adam8bit(lora_model.parameters(), lr=1e-4), None)  # 使用 8-bit Adam 優化器，減少記憶體使用 (預設使用 AdamW)\n",
    ")\n",
    "\n",
    "# Train LoRA model\n",
    "lora_trainer.train()\n"
   ]
  },
  {
   "cell_type": "markdown",
   "metadata": {},
   "source": [
    "### 4.3 QLoRA"
   ]
  },
  {
   "cell_type": "code",
   "execution_count": null,
   "metadata": {},
   "outputs": [],
   "source": [
    "from peft import prepare_model_for_kbit_training\n",
    "\n",
    "# Define quantization config for QLoRA\n",
    "quantization_config = BitsAndBytesConfig(\n",
    "    load_in_4bit=True,\n",
    "    bnb_4bit_use_double_quant=True,\n",
    "    bnb_4bit_quant_type='nf4',\n",
    "    bnb_4bit_compute_dtype=torch.bfloat16\n",
    ")\n",
    "\n",
    "# Load 4-bit QLoRA model\n",
    "qlora_model = AutoModelForCausalLM.from_pretrained(\n",
    "    BASE_MODEL,\n",
    "    device_map=\"auto\",\n",
    "    torch_dtype=torch.bfloat16,\n",
    "    quantization_config=quantization_config\n",
    ")\n",
    "qlora_model.gradient_checkpointing_enable()\n",
    "# qlora_model.train()  # Ensure the model is in training mode\n",
    "qlora_model = prepare_model_for_kbit_training(qlora_model, use_gradient_checkpointing = False)\n",
    "\n",
    "# Set QLoRA config\n",
    "qlora_config = LoraConfig(\n",
    "    r=64,  # Typically higher for QLoRA\n",
    "    lora_alpha=32,\n",
    "    target_modules=[\"q_proj\", \"k_proj\", \"v_proj\", \"o_proj\"],\n",
    "    lora_dropout=0.1,\n",
    "    bias=\"none\",\n",
    "    task_type=\"CAUSAL_LM\"\n",
    ")\n",
    "\n",
    "# Apply QLoRA to the base model\n",
    "qlora_model = get_peft_model(qlora_model, qlora_config)\n",
    "\n",
    "# Ensure only floating point parameters require gradients\n",
    "for param in qlora_model.parameters():\n",
    "    if param.dtype in [torch.bfloat16, torch.float32, torch.float64, torch.complex64, torch.complex128]:\n",
    "        param.requires_grad = True\n",
    "    else:\n",
    "        param.requires_grad = False\n",
    "\n",
    "# Set QLoRA training args\n",
    "qlora_training_args = TrainingArguments(\n",
    "    output_dir=os.path.join(OUTPUT_DIR, \"qlora\"),\n",
    "    per_device_train_batch_size=2,\n",
    "    gradient_accumulation_steps=4,  # 累積梯度\n",
    "    num_train_epochs=3,\n",
    "    logging_dir=\"./logs\",\n",
    "    save_strategy=\"epoch\",\n",
    "    fp16=True,\n",
    "    push_to_hub=False\n",
    ")\n",
    "\n",
    "# Initialize QLoRA Trainer\n",
    "qlora_trainer = Trainer(\n",
    "    model=qlora_model,\n",
    "    args=qlora_training_args,\n",
    "    train_dataset=tokenized_dataset,\n",
    "    data_collator=data_collator,  # 動態填充\n",
    "    optimizers=(bnb.optim.Adam8bit(qlora_model.parameters(), lr=1e-4), None)  # 使用 8-bit Adam 優化器，減少記憶體使用 (預設使用 AdamW)\n",
    ")\n",
    "\n",
    "# Train QLoRA model\n",
    "qlora_trainer.train()\n"
   ]
  },
  {
   "cell_type": "markdown",
   "metadata": {},
   "source": [
    "## 5. Evalution"
   ]
  },
  {
   "cell_type": "code",
   "execution_count": null,
   "metadata": {},
   "outputs": [],
   "source": [
    "from evaluate import load\n",
    "metric = load(\"rouge\")\n",
    "\n",
    "# Example: Evaluate SFT Model\n",
    "predictions = sft_trainer.predict(tokenized_dataset)\n",
    "results = metric.compute(predictions=predictions.predictions, references=predictions.label_ids)\n",
    "print(\"SFT Model Performance:\", results)\n",
    "\n",
    "\n",
    "####\n",
    "# from evaluate import load\n",
    "# metric = load(\"rouge\")\n",
    "\n",
    "# # Evaluate Summarization\n",
    "# predictions = [\"Quantum mechanics explains nanoscopic phenomena.\"]\n",
    "# references = [\"Quantum mechanics describes physical phenomena on small scales.\"]\n",
    "# results = metric.compute(predictions=predictions, references=references)\n",
    "# print(\"ROUGE scores:\", results)\n"
   ]
  },
  {
   "cell_type": "code",
   "execution_count": null,
   "metadata": {},
   "outputs": [],
   "source": [
    "from transformers import AutoModelForCausalLM, AutoTokenizer\n",
    "\n",
    "# 1. 加载模型和 Tokenizer\n",
    "def load_model_and_tokenizer(model_name):\n",
    "    model = AutoModelForCausalLM.from_pretrained(model_name, device_map=\"auto\", torch_dtype=torch.float16)\n",
    "    tokenizer = AutoTokenizer.from_pretrained(model_name)\n",
    "    return model, tokenizer\n",
    "\n",
    "# 2. 生成响应\n",
    "def generate_response(model, tokenizer, prompt, max_length=100):\n",
    "    inputs = tokenizer(prompt, return_tensors=\"pt\").to(model.device)\n",
    "    outputs = model.generate(\n",
    "        **inputs,\n",
    "        max_length=max_length,\n",
    "        temperature=0.7,\n",
    "        top_p=0.9,\n",
    "        do_sample=True,\n",
    "    )\n",
    "    response = tokenizer.decode(outputs[0], skip_special_tokens=True)\n",
    "    return response\n",
    "\n",
    "# 3. 测试函数\n",
    "def test_model(model_name, prompt):\n",
    "    model, tokenizer = load_model_and_tokenizer(model_name)\n",
    "    print(f\"Testing model: {model_name}\")\n",
    "    response = generate_response(model, tokenizer, prompt)\n",
    "    print(f\"Prompt: {prompt}\")\n",
    "    print(f\"Response: {response}\")\n"
   ]
  },
  {
   "cell_type": "code",
   "execution_count": null,
   "metadata": {},
   "outputs": [],
   "source": [
    "prompt = \"Explain quantum mechanics in simple terms.\"\n",
    "test_model(\"meta-llama/Llama-3.2-3b-hf\", prompt)  # Base model\n",
    "test_model(\"your_hf_username/llama-3.2-3b-qlora\", prompt)  # Fine-tuned model\n"
   ]
  },
  {
   "cell_type": "code",
   "execution_count": null,
   "metadata": {},
   "outputs": [],
   "source": [
    "# Push models to the Hugging Face Hub\n",
    "# 推送 SFT 模型\n",
    "sft_model.push_to_hub(f\"{HF_USERNAME}/llama-3.2-3b-sft\")\n",
    "\n",
    "# 推送 LoRA 模型\n",
    "lora_model.push_to_hub(f\"{HF_USERNAME}/llama-3.2-3b-lora\")\n",
    "\n",
    "# 推送 QLoRA 模型\n",
    "qlora_model.push_to_hub(f\"{HF_USERNAME}/llama-3.2-3b-qlora\")\n"
   ]
  }
 ],
 "metadata": {
  "kernelspec": {
   "display_name": "pyenv",
   "language": "python",
   "name": "python3"
  },
  "language_info": {
   "codemirror_mode": {
    "name": "ipython",
    "version": 3
   },
   "file_extension": ".py",
   "mimetype": "text/x-python",
   "name": "python",
   "nbconvert_exporter": "python",
   "pygments_lexer": "ipython3",
   "version": "3.11.10"
  }
 },
 "nbformat": 4,
 "nbformat_minor": 2
}
